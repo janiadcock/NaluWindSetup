{
 "cells": [
  {
   "cell_type": "markdown",
   "metadata": {},
   "source": [
    "## Mesh and initial velocity for SST RANS simulation of the ABL"
   ]
  },
  {
   "cell_type": "markdown",
   "metadata": {},
   "source": [
    "### Mesh"
   ]
  },
  {
   "cell_type": "markdown",
   "metadata": {},
   "source": [
    "__Calculates mesh vertex, $v_i$, locations by [1-2]:__\n",
    "\n",
    "$v_0 = 0.0$\n",
    "\n",
    "$z_1 = \\frac{z_1^+ \\nu}{u_*} \\gamma$ where $\\nu=1.5 \\times 10^{-5}$ and $u_*=.3880$ m/s\n",
    "\n",
    "$\\gamma$ is chosen s.t. $z_u - (z_i + \\Delta z_i/2) < .1$ and $z_1 \\approx 1$\n",
    "\n",
    "$v_1 = 2 z_1$\n",
    "\n",
    "$\\Delta_1 = v_1 \\times \\text{expansion_ratio}$\n",
    "\n",
    "$\\Delta_{i+1} = \\Delta_i \\times \\text{expansion_ratio}$\n",
    "\n",
    "For [2], the expansion ratio is 1.17\n",
    "\n",
    "$v_{i+1} = v_i + \\Delta_{i+1}$ while $100 > v_i$\n",
    "\n",
    "$v_{i+1} = v_i + \\Delta$ for $v_i \\in [100, 500]$\n",
    "\n",
    "This is the same method used to calculate cell centers in [1] and [2], modified to calculate cell vertices instead.\n",
    "\n",
    "__References:__\n",
    "\n",
    "[1] 2011 M. C. Bautista, Turbulence modelling of the atmospheric boundary layer over complex topography, École de Technologie Supérieure\n",
    "\n",
    "[2] 2015 M. C. Bautista, L. Dufresne, C. Masson, Hybrid turbulence models for atmospheric flow, E3S Web of Conferences"
   ]
  },
  {
   "cell_type": "code",
   "execution_count": 1,
   "metadata": {
    "collapsed": true
   },
   "outputs": [],
   "source": [
    "import numpy as np\n",
    "import matplotlib.pyplot as plt\n",
    "import yaml"
   ]
  },
  {
   "cell_type": "code",
   "execution_count": 2,
   "metadata": {
    "collapsed": true
   },
   "outputs": [],
   "source": [
    "# convert cell centers to cell vertices\n",
    "def get_cellVertices(z_max, expansion_ratio, z_u, delta, z_1_plus, u_star, nu, gamma):\n",
    "    z_1 = z_1_plus*nu/u_star\n",
    "    z_1 *= gamma\n",
    "    v_1 = 2.*z_1\n",
    "    vs = np.array([0., v_1])\n",
    "\n",
    "    v_i = v_1\n",
    "    delta_i = v_i*expansion_ratio\n",
    "    v_i += delta_i\n",
    "\n",
    "    while z_u > v_i:\n",
    "        vs = np.append(vs, v_i)\n",
    "        delta_i *= expansion_ratio\n",
    "        v_i += delta_i\n",
    "\n",
    "    vs = np.append(vs, np.arange(z_u+delta, z_max+delta, delta))\n",
    "\n",
    "    return vs"
   ]
  },
  {
   "cell_type": "code",
   "execution_count": 3,
   "metadata": {
    "collapsed": false
   },
   "outputs": [],
   "source": [
    "z_max = 500. # domain height [2]\n",
    "expansion_ratio = 1.17 # [2]\n",
    "delta = 15. # [2]\n",
    "\n",
    "# z_u ~= 100 [2]\n",
    "# actual value calculated by \n",
    "#   np.ceil((z_max - z_u)/15.) (=27)\n",
    "#   z_max - delta**27. (=95.0)\n",
    "z_u = 95.  \n",
    "\n",
    "z_1_plus = 1.0 # [2]\n",
    "u_star = .3880 # friction velocity\n",
    "nu = 1.5*10**-5 # kinematic viscosity, from [1] table 2.2"
   ]
  },
  {
   "cell_type": "code",
   "execution_count": 4,
   "metadata": {
    "collapsed": false,
    "scrolled": true
   },
   "outputs": [
    {
     "data": {
      "image/png": "[encoded data removed]",
      "text/plain": [
       "<matplotlib.figure.Figure at 0x1c9e13e3438>"
      ]
     },
     "metadata": {},
     "output_type": "display_data"
    }
   ],
   "source": [
    "gamma = 1.003 # manually tune this so slope in plot increases monotonically before flatlining (z_iplus1 ~= z_u at transition)\n",
    "vs = get_cellVertices(z_max, expansion_ratio, z_u, delta, z_1_plus, u_star, nu, gamma)\n",
    "\n",
    "fig, ax = plt.subplots()\n",
    "ax.plot([vs[i+1]-vs[i] for i in range(len(vs)-1)])\n",
    "ax.set(xlabel = 'vertex index, $i$', ylabel = 'vertex height, $z_i - z_{i-1}$, (m)')\n",
    "plt.show()"
   ]
  },
  {
   "cell_type": "code",
   "execution_count": 5,
   "metadata": {
    "collapsed": false
   },
   "outputs": [
    {
     "data": {
      "image/png": "[encoded data removed]",
      "text/plain": [
       "<matplotlib.figure.Figure at 0x1c9e19e57b8>"
      ]
     },
     "metadata": {},
     "output_type": "display_data"
    }
   ],
   "source": [
    "# check that vertex z location looks reasonable\n",
    "fig, ax = plt.subplots()\n",
    "ax.plot(vs)\n",
    "ax.set(xlabel = 'vertex index, $i$', ylabel = '$z_i$ (m)')\n",
    "plt.show()"
   ]
  },
  {
   "cell_type": "code",
   "execution_count": 6,
   "metadata": {
    "collapsed": false
   },
   "outputs": [
    {
     "name": "stdout",
     "output_type": "stream",
     "text": [
      "[0.0, 1.5510309278350516e-07, 3.365737113402062e-07, 5.488943350515463e-07, 7.973094647938143e-07, 1.0879551665922679e-06, 1.4280106376964585e-06, 1.8258755388883615e-06, 2.291377473282888e-06, 2.836014736524484e-06, 3.4732403345171518e-06, 4.2187942841685724e-06, 5.091092405260734e-06, 6.111681206938564e-06, 7.3057701049016255e-06, 8.702854115518406e-06, 1.033744240794004e-05, 1.224991071007335e-05, 1.4487498623569324e-05, 1.710547648235961e-05, 2.016851057714425e-05, 2.3752260468042275e-05, 2.7945247840392968e-05, 3.285104306604328e-05, 3.859082348005414e-05, 4.530636656444684e-05, 5.3163551973186314e-05, 6.23564589014115e-05, 7.311216000743496e-05, 8.56963303014824e-05, 0.0001004198095455179, 0.00011764628026103945, 0.00013780125099819966, 0.00016138256676067708, 0.00018897270620277568, 0.00022125316935003102, 0.0002590213112323198, 0.00030321003723459767, 0.00035491084665726275, 0.00041540079368178085, 0.00048617403170046704, 0.0005689787201823298, 0.0006658602057061094, 0.0007792115437689314, 0.0009118326093024332, 0.0010669992559766302, 0.0012485442325854408, 0.001460951855217749, 0.00170946877369755, 0.002000233568318917, 0.002340428378025916, 0.0027384563053831053, 0.003204148980391016, 0.0037490094101502724, 0.004386496112968602, 0.005132355555266047, 0.006005011102754058, 0.007026018093315031, 0.008220596272271369, 0.009618252741650284, 0.011253510810823616, 0.013166762751756414, 0.015405267522647786, 0.018024318104590695, 0.021088607285463894, 0.02467382562708554, 0.02886853108678286, 0.03377633647462873, 0.03951846877840839, 0.0462367635738306, 0.054097168484474586, 0.06329384222992805, 0.0740539505121086, 0.08664327720225984, 0.10137278942973678, 0.11860631873588481, 0.138769548024078, 0.16236052629126405, 0.1899619708638717, 0.22, 0.25, 0.28, 0.31, 0.34, 0.37, 0.4, 0.43, 0.46, 0.49, 0.52, 0.55, 0.58, 0.61, 0.64, 0.67, 0.7, 0.73, 0.76, 0.79, 0.82, 0.85, 0.88, 0.91, 0.94, 0.97, 1.0]\n"
     ]
    }
   ],
   "source": [
    "# copy into nalu_abl_mesh:z_spacing:node_spacing_ratios\n",
    "node_spacing_ratios = vs/z_max\n",
    "print(list(node_spacing_ratios))"
   ]
  },
  {
   "cell_type": "code",
   "execution_count": 7,
   "metadata": {
    "collapsed": false
   },
   "outputs": [
    {
     "data": {
      "text/plain": [
       "106"
      ]
     },
     "execution_count": 7,
     "metadata": {},
     "output_type": "execute_result"
    }
   ],
   "source": [
    "len(node_spacing_ratios) # nalu_abl_mesh:vertices:mesh_dimensions[3]= 105 (b/c 106 vertices means 105 mesh elements)"
   ]
  },
  {
   "cell_type": "code",
   "execution_count": 8,
   "metadata": {
    "collapsed": false
   },
   "outputs": [
    {
     "data": {
      "text/plain": [
       "(200.0, 33.333333333333336)"
      ]
     },
     "execution_count": 8,
     "metadata": {},
     "output_type": "execute_result"
    }
   ],
   "source": [
    "x_max = 3000.\n",
    "y_max = 500.\n",
    "\n",
    "# 201 elements in x-dir and 34 in y-dir\n",
    "# b/c e.g. 15 goes into 3000 200 times; meaning 201 mesh elements fit\n",
    "x_max/delta, y_max/delta"
   ]
  },
  {
   "cell_type": "markdown",
   "metadata": {},
   "source": [
    "### Initial velocity"
   ]
  },
  {
   "cell_type": "markdown",
   "metadata": {},
   "source": [
    "__Calculates initial velocity by [1-2]:__\n",
    "\n",
    "$u=\\frac{u_*}{\\kappa} ln \\left( \\frac{z+z_0}{z_0} \\right)$\n",
    "\n",
    "$\\kappa = .4$\n",
    "\n",
    "$z_0=.1$m\n",
    "\n",
    "$u_*=.3880$ m/s\n",
    "\n",
    "$u=u \\left(1+\\text{Unif}[-.2,.2] \\right)$"
   ]
  },
  {
   "cell_type": "code",
   "execution_count": 9,
   "metadata": {
    "collapsed": true
   },
   "outputs": [],
   "source": [
    "kappa = .4 #von Karman constant; from 2011 Masson Table-A I-1 (k-omega SST constants for atmospheric flows)\n",
    "z_0 = .1 #aerodynamic roughness [2]"
   ]
  },
  {
   "cell_type": "code",
   "execution_count": 10,
   "metadata": {
    "collapsed": true
   },
   "outputs": [],
   "source": [
    "def get_u(v):\n",
    "    return u_star/kappa*np.log((v+z_0)/z_0)"
   ]
  },
  {
   "cell_type": "code",
   "execution_count": 11,
   "metadata": {
    "collapsed": true
   },
   "outputs": [],
   "source": [
    "us = [get_u(v) for v in vs]"
   ]
  },
  {
   "cell_type": "code",
   "execution_count": 12,
   "metadata": {
    "collapsed": true
   },
   "outputs": [],
   "source": [
    "# add +/- 20% random fluctuations (assuming uniform--not specified)\n",
    "us_scaling = 1. + np.random.uniform(-.2,.2, len(us))\n",
    "us_scaled = [max(u*u_scaling, 0.0) for (u, u_scaling) in zip(us, us_scaling)]"
   ]
  },
  {
   "cell_type": "code",
   "execution_count": 13,
   "metadata": {
    "collapsed": false
   },
   "outputs": [
    {
     "data": {
      "image/png": "[encoded data removed]",
      "text/plain": [
       "<matplotlib.figure.Figure at 0x1c9e1a70da0>"
      ]
     },
     "metadata": {},
     "output_type": "display_data"
    }
   ],
   "source": [
    "plt.figure(figsize=(6,6))\n",
    "plt.scatter(us, vs, label='logarithmic')\n",
    "plt.scatter(us_scaled, vs, label='logarithmic+random \\nfluctuations')\n",
    "ax = plt.gca()\n",
    "ax.set_xlabel(r'$u_{init}$')\n",
    "ax.set_ylabel(r'$z$')\n",
    "plt.rcParams[\"font.size\"] = \"14\"\n",
    "# plt.legend(fontsize='xx-small')\n",
    "plt.legend()\n",
    "plt.show()"
   ]
  },
  {
   "cell_type": "code",
   "execution_count": 14,
   "metadata": {
    "collapsed": false
   },
   "outputs": [
    {
     "name": "stdout",
     "output_type": "stream",
     "text": [
      "[0.0, 7.755154639175258e-05, 0.0001682868556701031, 0.0002744471675257732, 0.00039865473239690714, 0.0005439775832961339, 0.0007140053188482293, 0.0009129377694441807, 0.001145688736641444, 0.001418007368262242, 0.0017366201672585758, 0.002109397142084286, 0.002545546202630367, 0.003055840603469282, 0.0036528850524508126, 0.004351427057759203, 0.00516872120397002, 0.006124955355036675, 0.007243749311784662, 0.008552738241179806, 0.010084255288572125, 0.011876130234021138, 0.013972623920196483, 0.01642552153302164, 0.01929541174002707, 0.022653183282223422, 0.026581775986593156, 0.031178229450705745, 0.036556080003717475, 0.0428481651507412, 0.050209904772758954, 0.05882314013051972, 0.06890062549909982, 0.08069128338033854, 0.09448635310138784, 0.11062658467501552, 0.1295106556161599, 0.15160501861729883, 0.17745542332863137, 0.20770039684089042, 0.2430870158502335, 0.28448936009116493, 0.3329301028530547, 0.3896057718844657, 0.4559163046512166, 0.5334996279883151, 0.6242721162927204, 0.7304759276088746, 0.854734386848775, 1.0001167841594585, 1.170214189012958, 1.3692281526915526, 1.6020744901955082, 1.8745047050751362, 2.193248056484301, 2.5661777776330235, 3.002505551377029, 3.5130090466575155, 4.110298136135684, 4.809126370825142, 5.626755405411808, 6.583381375878207, 7.702633761323893, 9.012159052295347, 10.544303642731947, 12.336912813542769, 14.434265543391431, 16.888168237314364, 19.759234389204195, 23.1183817869153, 27.048584242237293, 31.646921114964023, 37.0269752560543, 43.32163860112992, 50.68639471486839, 59.303159367942406, 69.384774012039, 81.18026314563203, 94.98098543193585, 110.0, 125.0, 140.0, 155.0, 170.0, 185.0, 200.0, 215.0, 230.0, 245.0, 260.0, 275.0, 290.0, 305.0, 320.0, 335.0, 350.0, 365.0, 380.0, 395.0, 410.0, 425.0, 440.0, 455.0, 470.0, 485.0, 500.0]\n"
     ]
    }
   ],
   "source": [
    "# copy this into yaml mesh setup file in nalu_preprocess:velocity:heights\n",
    "print(list(vs))"
   ]
  },
  {
   "cell_type": "code",
   "execution_count": 15,
   "metadata": {
    "collapsed": true
   },
   "outputs": [],
   "source": [
    "# copy contents of values file to yaml mesh setup file in nalu_preprocess:velocity:values\n",
    "dict_file = {'values' : [[float(u), 0.0, 0.0] for u in us_scaled]}"
   ]
  },
  {
   "cell_type": "code",
   "execution_count": null,
   "metadata": {
    "collapsed": true
   },
   "outputs": [],
   "source": []
  }
 ],
 "metadata": {
  "kernelspec": {
   "display_name": "Python 3",
   "language": "python",
   "name": "python3"
  },
  "language_info": {
   "codemirror_mode": {
    "name": "ipython",
    "version": 3
   },
   "file_extension": ".py",
   "mimetype": "text/x-python",
   "name": "python",
   "nbconvert_exporter": "python",
   "pygments_lexer": "ipython3",
   "version": "3.6.8"
  }
 },
 "nbformat": 4,
 "nbformat_minor": 2
}
